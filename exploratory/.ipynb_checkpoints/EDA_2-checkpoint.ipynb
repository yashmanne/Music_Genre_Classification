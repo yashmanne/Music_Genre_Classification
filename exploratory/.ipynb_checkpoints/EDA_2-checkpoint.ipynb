{
 "cells": [
  {
   "cell_type": "code",
   "execution_count": 1,
   "id": "54b4ff33",
   "metadata": {},
   "outputs": [],
   "source": [
    "import numpy as np\n",
    "# from tempfile import TemporaryFile\n",
    "import os\n",
    "import pickle\n",
    "import random \n",
    "import operator\n",
    "import math\n",
    "import numpy as np\n",
    "import matplotlib.pyplot as plt\n",
    "import IPython.display as ipd"
   ]
  },
  {
   "cell_type": "code",
   "execution_count": 2,
   "id": "7617ac44",
   "metadata": {},
   "outputs": [
    {
     "name": "stdout",
     "output_type": "stream",
     "text": [
      "CPU times: user 983 ms, sys: 572 ms, total: 1.55 s\n",
      "Wall time: 16.2 s\n"
     ]
    }
   ],
   "source": [
    "%%time\n",
    "import librosa \n",
    "import librosa.display"
   ]
  },
  {
   "cell_type": "code",
   "execution_count": 3,
   "id": "1f6ab28a",
   "metadata": {},
   "outputs": [],
   "source": [
    "sig, rate = librosa.load(\"../data/blues/blues.00000.wav\")\n",
    "\n",
    "# MFCC\n",
    "mfcc_feat = librosa.feature.mfcc(y =sig, sr= rate)\n",
    "mfcc_mean = mfcc_feat.mean(1)\n",
    "mfcc_var = mfcc_feat.var(1)\n",
    "\n",
    "# Spectral Centroid\n",
    "spec_centroid = librosa.feature.spectral_centroid(y= sig, sr = rate)\n",
    "spec_centroid_mean = spec_centroid.mean(1)\n",
    "spec_centroid_var = spec_centroid.var(1)\n",
    "\n",
    "# Spectral-Bandwidth\n",
    "spec_band = librosa.feature.spectral_bandwidth(y=sig, sr= rate)\n",
    "spec_band_mean = spec_band.mean(1)\n",
    "spec_band_var = spec_band.var(1)\n",
    "\n",
    "# Zero-Crossing Rate\n",
    "zero_cr = librosa.feature.zero_crossing_rate(sig)\n",
    "zero_cr_mean = zero_cr.mean(1)\n",
    "zero_cr_var = zero_cr.var(1)\n",
    "\n",
    "# Spectral-Rolloff\n",
    "rolloff = librosa.feature.spectral_rolloff(y = sig, sr = rate)\n",
    "rolloff_mean = rolloff.mean(1)\n",
    "rolloff_var = rolloff.var(1)\n",
    "\n",
    "# Tempo\n",
    "onset_env = librosa.onset.onset_strength(y=sig, sr=rate)\n",
    "tempo = librosa.beat.tempo(onset_envelope=onset_env, sr=rate)\n",
    "\n",
    "# Chroma\n",
    "chroma = librosa.feature.chroma_stft(y=sig, sr = rate)\n",
    "chroma_mean = chroma.mean(1) \n",
    "chroma_var = chroma.var(1)\n",
    "\n",
    "# RMS\n",
    "S, phase = librosa.magphase(librosa.stft(sig))\n",
    "rms = librosa.feature.rms(S=S)\n",
    "rms_mean = rms.mean(1)\n",
    "rms_var = rms.var(1)"
   ]
  },
  {
   "cell_type": "code",
   "execution_count": 4,
   "id": "03a2eed5",
   "metadata": {},
   "outputs": [
    {
     "data": {
      "text/plain": [
       "(20, 1293)"
      ]
     },
     "execution_count": 4,
     "metadata": {},
     "output_type": "execute_result"
    }
   ],
   "source": [
    "mfcc_feat.shape"
   ]
  },
  {
   "cell_type": "code",
   "execution_count": 5,
   "id": "f36a04c3",
   "metadata": {},
   "outputs": [
    {
     "data": {
      "text/plain": [
       "(1, 1293)"
      ]
     },
     "execution_count": 5,
     "metadata": {},
     "output_type": "execute_result"
    }
   ],
   "source": [
    "spec_centroid.shape"
   ]
  },
  {
   "cell_type": "code",
   "execution_count": 6,
   "id": "7ea6d7ce",
   "metadata": {},
   "outputs": [
    {
     "data": {
      "text/plain": [
       "(1, 1293)"
      ]
     },
     "execution_count": 6,
     "metadata": {},
     "output_type": "execute_result"
    }
   ],
   "source": [
    "spec_band.shape"
   ]
  },
  {
   "cell_type": "code",
   "execution_count": 7,
   "id": "3481d9b1",
   "metadata": {},
   "outputs": [
    {
     "data": {
      "text/plain": [
       "(1, 1293)"
      ]
     },
     "execution_count": 7,
     "metadata": {},
     "output_type": "execute_result"
    }
   ],
   "source": [
    "zero_cr.shape"
   ]
  },
  {
   "cell_type": "code",
   "execution_count": 8,
   "id": "1110cabb",
   "metadata": {},
   "outputs": [
    {
     "data": {
      "text/plain": [
       "(1, 1293)"
      ]
     },
     "execution_count": 8,
     "metadata": {},
     "output_type": "execute_result"
    }
   ],
   "source": [
    "rolloff.shape"
   ]
  },
  {
   "cell_type": "code",
   "execution_count": 9,
   "id": "687dce55",
   "metadata": {},
   "outputs": [
    {
     "data": {
      "text/plain": [
       "(12, 1293)"
      ]
     },
     "execution_count": 9,
     "metadata": {},
     "output_type": "execute_result"
    }
   ],
   "source": [
    "chroma.shape"
   ]
  },
  {
   "cell_type": "code",
   "execution_count": 10,
   "id": "330c5da6",
   "metadata": {},
   "outputs": [
    {
     "data": {
      "text/plain": [
       "(1, 1293)"
      ]
     },
     "execution_count": 10,
     "metadata": {},
     "output_type": "execute_result"
    }
   ],
   "source": [
    "rms.shape"
   ]
  },
  {
   "cell_type": "code",
   "execution_count": null,
   "id": "3e4e1c2b",
   "metadata": {},
   "outputs": [],
   "source": []
  }
 ],
 "metadata": {
  "kernelspec": {
   "display_name": "Python 3 (ipykernel)",
   "language": "python",
   "name": "python3"
  },
  "language_info": {
   "codemirror_mode": {
    "name": "ipython",
    "version": 3
   },
   "file_extension": ".py",
   "mimetype": "text/x-python",
   "name": "python",
   "nbconvert_exporter": "python",
   "pygments_lexer": "ipython3",
   "version": "3.9.11"
  }
 },
 "nbformat": 4,
 "nbformat_minor": 5
}
